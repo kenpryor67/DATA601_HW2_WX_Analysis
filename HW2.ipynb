{
 "cells": [
  {
   "cell_type": "code",
   "execution_count": 1,
   "metadata": {},
   "outputs": [
    {
     "name": "stderr",
     "output_type": "stream",
     "text": [
      "This program is blocked by group policy. For more information, contact your system administrator.\n"
     ]
    },
    {
     "name": "stdout",
     "output_type": "stream",
     "text": [
      "{\"cod\":200,\"calctime\":0.001911113,\"cnt\":2,\"list\":[{\"id\":4355585,\"dt\":1601673239,\"name\":\"Frederick\",\"coord\":{\"Lon\":-77.41,\"Lat\":39.41},\"main\":{\"temp\":62.94,\"feels_like\":53.85,\"temp_min\":61,\"temp_max\":66.2,\"pressure\":1018,\"humidity\":39},\"visibility\":10000,\"wind\":{\"speed\":11.40837508947745,\"deg\":310},\"rain\":null,\"snow\":null,\"clouds\":{\"today\":40},\"weather\":[{\"id\":802,\"main\":\"Clouds\",\"description\":\"scattered clouds\",\"icon\":\"03d\"}]},{\"id\":4352728,\"dt\":1601673238,\"name\":\"Damascus\",\"coord\":{\"Lon\":-77.2,\"Lat\":39.29},\"main\":{\"temp\":62.76,\"feels_like\":55.94,\"temp_min\":61,\"temp_max\":64.99,\"pressure\":1018,\"humidity\":48},\"visibility\":10000,\"wind\":{\"speed\":9.171438797423049,\"deg\":300},\"rain\":null,\"snow\":null,\"clouds\":{\"today\":75},\"weather\":[{\"id\":803,\"main\":\"Clouds\",\"description\":\"broken clouds\",\"icon\":\"04d\"}]}]}\n"
     ]
    }
   ],
   "source": [
    "from __future__ import print_function, division\n",
    "import sys\n",
    "!conda install -c conda-forge --yes --prefix {sys.prefix} requests\n",
    "import requests\n",
    "#responsewx = requests.get(\"https://api.openweathermap.org/data/2.5/find?lat=39.4&lon=-77.3&cnt=5&units=imperial&appid=edc8e66602652591b418f7492de29f82\")\n",
    "#responsewx = requests.get(\"https://api.openweathermap.org/data/2.5/weather?zip=21774,us&units=imperial&appid=edc8e66602652591b418f7492de29f82\")\n",
    "responsewx = requests.get(\"https://api.openweathermap.org/data/2.5/box/city?bbox=-77.5,39.2,-77,39.7,10&units=imperial&appid=edc8e66602652591b418f7492de29f82\")\n",
    "## Let's check the status code of the response\n",
    "#print(responsewx.json())\n",
    "print(responsewx.content)"
   ]
  },
  {
   "cell_type": "code",
   "execution_count": 2,
   "metadata": {},
   "outputs": [
    {
     "name": "stdout",
     "output_type": "stream",
     "text": [
      "   calctime  cnt  cod                                               list\n",
      "0  0.001911    2  200  {u'clouds': {u'today': 40}, u'name': u'Frederi...\n",
      "1  0.001911    2  200  {u'clouds': {u'today': 75}, u'name': u'Damascu...\n"
     ]
    }
   ],
   "source": [
    "import pandas as pd \n",
    "import os, ssl\n",
    "\n",
    "if (not os.environ.get('PYTHONHTTPSVERIFY', '') and\n",
    "getattr(ssl, '_create_unverified_context', None)):\n",
    "    ssl._create_default_https_context = ssl._create_unverified_context\n",
    "    \n",
    "data = pd.read_json(r'https://api.openweathermap.org/data/2.5/box/city?bbox=-77.5,39.2,-77,39.7,10&units=imperial&appid=edc8e66602652591b418f7492de29f82')\n",
    "#data = pd.read_json(responsewx.content) \n",
    "print(data) "
   ]
  },
  {
   "cell_type": "code",
   "execution_count": 3,
   "metadata": {
    "scrolled": false
   },
   "outputs": [
    {
     "name": "stdout",
     "output_type": "stream",
     "text": [
      "   clouds.today  coord.Lat  coord.Lon          dt       id  main.feels_like  \\\n",
      "0            40      39.41     -77.41  1601673239  4355585            53.85   \n",
      "1            75      39.29     -77.20  1601673238  4352728            55.94   \n",
      "\n",
      "   main.humidity  main.pressure  main.temp  main.temp_max  main.temp_min  \\\n",
      "0             39           1018      62.94          66.20             61   \n",
      "1             48           1018      62.76          64.99             61   \n",
      "\n",
      "        name  rain  snow  visibility  \\\n",
      "0  Frederick  None  None       10000   \n",
      "1   Damascus  None  None       10000   \n",
      "\n",
      "                                             weather  wind.deg  wind.speed  \n",
      "0  [{u'description': u'scattered clouds', u'main'...       310   11.408375  \n",
      "1  [{u'description': u'broken clouds', u'main': u...       300    9.171439  \n"
     ]
    }
   ],
   "source": [
    "from pandas.io.json import json_normalize  \n",
    " \n",
    "\n",
    "# lets put the data into a pandas df \n",
    "# clicking on raw_nyc_phil.json under \"Input Files\" \n",
    "# tells us parent node is 'programs' \n",
    "wxobs = json_normalize(data['list']) \n",
    "print(wxobs)"
   ]
  },
  {
   "cell_type": "code",
   "execution_count": 4,
   "metadata": {},
   "outputs": [],
   "source": [
    "def compthetae(temp,RH,pressure):\n",
    "    tempc = (temp - 32) / 1.8\n",
    "    print(\"Temp_C = \", tempc)\n",
    "    thetae = (273.15 + tempc)*((1000/pressure)**0.286)+(3 * (RH * (3.884266 * 10**\n",
    "         ((7.5 * tempc)/(237.7 + tempc)))/100))\n",
    "    return thetae"
   ]
  },
  {
   "cell_type": "code",
   "execution_count": 5,
   "metadata": {},
   "outputs": [
    {
     "name": "stdout",
     "output_type": "stream",
     "text": [
      "           clouds                            coord          dt       id  \\\n",
      "0  {u'today': 40}  {u'Lat': 39.41, u'Lon': -77.41}  1601673239  4355585   \n",
      "1  {u'today': 75}   {u'Lat': 39.29, u'Lon': -77.2}  1601673238  4352728   \n",
      "\n",
      "                                                main       name  rain  snow  \\\n",
      "0  {u'temp': 62.94, u'temp_max': 66.2, u'humidity...  Frederick  None  None   \n",
      "1  {u'temp': 62.76, u'temp_max': 64.99, u'humidit...   Damascus  None  None   \n",
      "\n",
      "   visibility                                            weather  \\\n",
      "0       10000  [{u'main': u'Clouds', u'id': 802, u'icon': u'0...   \n",
      "1       10000  [{u'main': u'Clouds', u'id': 803, u'icon': u'0...   \n",
      "\n",
      "                                     wind  \n",
      "0  {u'speed': 11.4083750895, u'deg': 310}  \n",
      "1  {u'speed': 9.17143879742, u'deg': 300}  \n",
      "Temp_C =  17.1888888889\n",
      "Location:  Frederick\n",
      "Wind speed:  11.4083750895\n",
      "Wind speed:  310\n",
      "Temperature:  62.94\n",
      "Humidity:  39\n",
      "Pressure:  1018\n",
      "Theta-e:  303.424957458\n",
      "Temp_C =  17.0888888889\n",
      "Location:  Damascus\n",
      "Wind speed:  9.17143879742\n",
      "Wind speed:  300\n",
      "Temperature:  62.76\n",
      "Humidity:  48\n",
      "Pressure:  1018\n",
      "Theta-e:  306.573372126\n",
      "Theta-e difference between location 1 and location 2 =  3.14841466794\n",
      "False False False False True\n",
      "Wind convergence - frontal boundary not present\n",
      "Cumulus cloud development possible\n"
     ]
    }
   ],
   "source": [
    "wx_data = json_normalize(data.to_dict('series'), 'list') \n",
    "print(wx_data)\n",
    "loc1 = wx_data['name'][0]\n",
    "windspd_loc1 = wx_data['wind'][0]['speed']\n",
    "winddir_loc1 = wx_data['wind'][0]['deg']\n",
    "temp_loc1 = wx_data['main'][0]['temp']\n",
    "RH_loc1 = wx_data['main'][0]['humidity']\n",
    "pressure_loc1 = wx_data['main'][0]['pressure']\n",
    "thetae_loc1 = compthetae(temp_loc1,RH_loc1,pressure_loc1)\n",
    "print(\"Location: \", loc1)\n",
    "print(\"Wind speed: \", windspd_loc1)\n",
    "print(\"Wind speed: \", winddir_loc1)\n",
    "print(\"Temperature: \", temp_loc1)\n",
    "print(\"Humidity: \", RH_loc1)\n",
    "print(\"Pressure: \", pressure_loc1)\n",
    "print(\"Theta-e: \", thetae_loc1)\n",
    "\n",
    "loc2 = wx_data['name'][1]\n",
    "windspd_loc2 = wx_data['wind'][1]['speed']\n",
    "winddir_loc2 = wx_data['wind'][1]['deg']\n",
    "temp_loc2 = wx_data['main'][1]['temp']\n",
    "RH_loc2 = wx_data['main'][1]['humidity']\n",
    "pressure_loc2 = wx_data['main'][1]['pressure']\n",
    "thetae_loc2 = compthetae(temp_loc2,RH_loc2,pressure_loc2)\n",
    "print(\"Location: \", loc2)\n",
    "print(\"Wind speed: \", windspd_loc2)\n",
    "print(\"Wind speed: \", winddir_loc2)\n",
    "print(\"Temperature: \", temp_loc2)\n",
    "print(\"Humidity: \", RH_loc2)\n",
    "print(\"Pressure: \", pressure_loc2)\n",
    "print(\"Theta-e: \", thetae_loc2)\n",
    "\n",
    "delta_thetae = thetae_loc2 - thetae_loc1\n",
    "print(\"Theta-e difference between location 1 and location 2 = \", delta_thetae)\n",
    "\n",
    "if winddir_loc2 < winddir_loc1:\n",
    "    winddirdiff = winddir_loc1 - winddir_loc2\n",
    "    if winddirdiff >= 45:\n",
    "        wshift = True\n",
    "    else:\n",
    "        wshift = False\n",
    "        \n",
    "    if delta_thetae > 0:\n",
    "        if thetae_loc2 > 330:\n",
    "            svrstorms = True\n",
    "        elif thetae_loc2 > 310:\n",
    "            svrstorms = False\n",
    "            storms = True\n",
    "        else:\n",
    "            svrstorms = False\n",
    "            storms = False\n",
    "            cumulus = True\n",
    "    elif thetae_loc2 > 300:\n",
    "        svrstorms = False\n",
    "        storms = False\n",
    "        cumulus = True\n",
    "    else:\n",
    "        svrstorms = False\n",
    "        storms = False\n",
    "        cumulus = False\n",
    "        \n",
    "    div = False\n",
    "    \n",
    "    print(wshift,div,svrstorms,storms,cumulus)\n",
    "    \n",
    "    if wshift == True:\n",
    "        print(\"Wind convergence - frontal boundary present\")\n",
    "    else:\n",
    "        print(\"Wind convergence - frontal boundary not present\")\n",
    "    if svrstorms == True:\n",
    "        print(\"Severe storm and MCS development possible\")\n",
    "    elif storms == True:\n",
    "        print(\"Scattered storm development possible\")\n",
    "    else:        \n",
    "        print(\"Cumulus cloud development possible\")\n",
    "    \n",
    "elif winddir_loc2 > winddir_loc1:\n",
    "    whsift = False\n",
    "    div = True\n",
    "    print(whsift,div)\n",
    "    print(\"Wind divergence - frontal boundary not present\")\n",
    "else:\n",
    "    whsift = False\n",
    "    div = True\n",
    "    print(whsift,div)\n",
    "    print(\"Frontal boundary not present\")\n",
    " "
   ]
  },
  {
   "cell_type": "code",
   "execution_count": null,
   "metadata": {},
   "outputs": [],
   "source": []
  }
 ],
 "metadata": {
  "kernelspec": {
   "display_name": "Python 2",
   "language": "python",
   "name": "python2"
  },
  "language_info": {
   "codemirror_mode": {
    "name": "ipython",
    "version": 2
   },
   "file_extension": ".py",
   "mimetype": "text/x-python",
   "name": "python",
   "nbconvert_exporter": "python",
   "pygments_lexer": "ipython2",
   "version": "2.7.16"
  }
 },
 "nbformat": 4,
 "nbformat_minor": 2
}
