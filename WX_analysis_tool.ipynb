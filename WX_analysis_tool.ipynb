{
 "cells": [
  {
   "cell_type": "markdown",
   "metadata": {},
   "source": [
    "# DATA 601 Homework 2\n",
    "# Convective Weather Analysis Tool\n",
    "## Python weather analysis application that detects the presence of frontal boundaries and assesses thunderstorm potential."
   ]
  },
  {
   "cell_type": "markdown",
   "metadata": {},
   "source": [
    "### Overview: Convective cloud and storm development is a common occurrence over southwest Florida during the warm season (i.e., April - October). This Python code package provides a surface weather analysis technique that assesses the thermodynamic energy state of the atmosphere near the surface (ground) and identifies dynamic factors that favor or inhibit convective storm (i.e., thunderstorm) development over sub-tropical coastal areas."
   ]
  },
  {
   "cell_type": "markdown",
   "metadata": {},
   "source": [
    "### Example of cumulus-cloud filled sky over southwest Florida\n",
    "<img src= \"images/IMG_3210.JPEG\">"
   ]
  },
  {
   "cell_type": "markdown",
   "metadata": {},
   "source": [
    "### Abstract:\n",
    "Convective cloud and storm development is a common occurrence over southwest Florida during the Northern Hemisphere warm season (i.e., April - October). Cumulus clouds develop in convection currents resulting from heating near the Earth’s surface. Deep, moist convection can also pose a threat to public safety and aviation operations. Convective cloud (i.e., cumulus cloud, see https://cloudatlas.wmo.int/en/cumulus-cu.html) and, in some cases, subsequent convective storm development can be effectively anticipated from observed weather conditions near the ground. Necessary ingredients for convective cloud development typically includes (1) a moist layer of sufficient depth in the lower atmosphere, and (2) adequate lifting of an air parcel from the moist layer to allow free convection (Johns and Doswell 1992). Equivalent potential temperature (theta-e) can indicate the amount of moist heating near the ground and the resultant instability that favors intense updrafts (i.e., vertically moving air at a high velocity). Lifting of an air parcel from the ground surface typically results from wind convergence (confluence) along the frontal boundary, defined as an air mass discontinuity. Theta-e values greater than 330 degrees Kelvin (K) strongly indicate the potential for deep, moist convective storms (i.e., thunderstorms), especially in the presence of a frontal boundary. Over southwestern Florida, sea-breeze fronts and cold fronts are the most commonly occurring. This application will obtain surface weather observations over a roughly 1-degree latitude by 1-degree longitude boxed area and perform a function to infer the presence of wind convergence and an associated frontal boundary. The theta-e parameter will then be analyzed to determine the potential development of cumulus clouds and thunderstorm activity.\n",
    "\n",
    "### Research Questions:\n",
    "1. What is the relationship between surface equivalent potential temperature patterns and thunderstorm potential?\n",
    "2. How does dynamic forcing (i.e., divergence, convergence) interact with thermodynamic instability during the process of thunderstorm initiation?\n",
    "\n",
    "### Methodology:\n",
    "This notebook generates tables, weather reports, and diagnostic output. Consists of five blocks that are executed in succession:\n",
    "- Invoke Pandas to read and load weather observation data from [OpenWeather API](https://openweathermap.org/current) in JSON format from stations within the defined rectangular boundary.\n",
    "- Define and execute a function that calculates equivalent potential temperature (i.e., theta-e) from temperature and relative humidity values.\n",
    "- Invoke json_normalize function to generate a regional weather report in table format. Extract weather observation data and print weather reports for two selected locations within the rectangular boundary.\n",
    "- Execute a decision tree to 1) determine the presence of a frontal boundary, and 2) determine the possibility of deep, moist convective storms (thunderstorms).\n",
    "- Build dictionaries and a data frame containing weather report and derived parameter data; save data frame as a .csv file in the “data” directory.\n"
   ]
  },
  {
   "cell_type": "markdown",
   "metadata": {},
   "source": [
    "## Invoke Pandas to read and load weather observation data in JSON format from stations within the defined rectangular boundary."
   ]
  },
  {
   "cell_type": "code",
   "execution_count": 1,
   "metadata": {
    "scrolled": false
   },
   "outputs": [
    {
     "name": "stdout",
     "output_type": "stream",
     "text": [
      "   calctime  cnt  cod                                               list\n",
      "0  0.001355    4  200  {u'clouds': {u'today': 90}, u'name': u'Golden ...\n",
      "1  0.001355    4  200  {u'clouds': {u'today': 90}, u'name': u'Naples'...\n",
      "2  0.001355    4  200  {u'clouds': {u'today': 100}, u'name': u'Bonita...\n",
      "3  0.001355    4  200  {u'clouds': {u'today': 75}, u'name': u'Immokal...\n",
      "\n",
      "   clouds.today  coord.Lat  coord.Lon          dt       id  main.feels_like  \\\n",
      "0            90      26.19     -81.70  1605205080  4156920            89.11   \n",
      "1            90      26.14     -81.79  1605205081  4165565            87.76   \n",
      "2           100      26.34     -81.78  1605205079  4148533            92.25   \n",
      "3            75      26.42     -81.42  1605205080  4159553            88.88   \n",
      "\n",
      "   main.grnd_level  main.humidity  main.pressure  main.sea_level  main.temp  \\\n",
      "0              NaN             78           1013             NaN      83.03   \n",
      "1              NaN             78           1013             NaN      82.17   \n",
      "2           1012.0             88           1012          1012.0      82.51   \n",
      "3              NaN             70           1013             NaN      84.90   \n",
      "\n",
      "   main.temp_max  main.temp_min            name  rain  snow  visibility  \\\n",
      "0           86.0             82     Golden Gate  None  None       10000   \n",
      "1           82.4             82          Naples  None  None       10000   \n",
      "2           86.0             81  Bonita Springs  None  None       10000   \n",
      "3           86.0             82       Immokalee  None  None       10000   \n",
      "\n",
      "                                             weather  wind.deg  wind.speed  \n",
      "0  [{u'description': u'overcast clouds', u'main':...       230    8.052971  \n",
      "1  [{u'description': u'overcast clouds', u'main':...       230    8.052971  \n",
      "2  [{u'description': u'overcast clouds', u'main':...        32    5.010737  \n",
      "3  [{u'description': u'broken clouds', u'main': u...       250   10.289907  \n"
     ]
    }
   ],
   "source": [
    "from __future__ import print_function, division\n",
    "import numpy as np\n",
    "import pandas as pd \n",
    "import sys\n",
    "from pandas.io.json import json_normalize \n",
    "import os, ssl\n",
    "\n",
    "if (not os.environ.get('PYTHONHTTPSVERIFY', '') and\n",
    "getattr(ssl, '_create_unverified_context', None)):\n",
    "    ssl._create_default_https_context = ssl._create_unverified_context\n",
    "\n",
    "data = pd.read_json(r'https://api.openweathermap.org/data/2.5/box/city?bbox=-82,25.5,-81,26.5,10&units=imperial&appid=edc8e66602652591b418f7492de29f82')\n",
    "print(data)\n",
    "print(\"\")\n",
    "\n",
    "#Print weather observation table from JSON dataset\n",
    "wxobs = json_normalize(data['list']) \n",
    "print(wxobs)"
   ]
  },
  {
   "cell_type": "markdown",
   "metadata": {},
   "source": [
    "## Define and execute a function that calculates equivalent potential temperature (i.e., theta-e) from temperature and relative humidity values as documented by Andrew Revering, Convective Development, Inc., http://gradsusr.org/pipermail/gradsusr/2010-January/010266.html"
   ]
  },
  {
   "cell_type": "code",
   "execution_count": 2,
   "metadata": {},
   "outputs": [],
   "source": [
    "def compthetae(temp,RH,pressure):\n",
    "    tempc = (temp - 32) / 1.8\n",
    "    print(\"Temp_C = \", tempc)\n",
    "    #Calculate theta-e. Units are in degrees Kelvin (K)\n",
    "    thetae = (273.15 + tempc)*((1000/pressure)**0.286)+(3 * (RH * (3.884266 * 10**\n",
    "         ((7.5 * tempc)/(237.7 + tempc)))/100))\n",
    "    return thetae"
   ]
  },
  {
   "cell_type": "markdown",
   "metadata": {},
   "source": [
    "## Invoke json_normalize function to generate a regional weather report in table format. Extract weather observation data and print weather reports for two selected locations within the rectangular boundary."
   ]
  },
  {
   "cell_type": "code",
   "execution_count": 3,
   "metadata": {
    "scrolled": false
   },
   "outputs": [
    {
     "name": "stdout",
     "output_type": "stream",
     "text": [
      "            clouds                            coord          dt       id  \\\n",
      "0   {u'today': 90}   {u'Lat': 26.19, u'Lon': -81.7}  1605205080  4156920   \n",
      "1   {u'today': 90}  {u'Lat': 26.14, u'Lon': -81.79}  1605205081  4165565   \n",
      "2  {u'today': 100}  {u'Lat': 26.34, u'Lon': -81.78}  1605205079  4148533   \n",
      "3   {u'today': 75}  {u'Lat': 26.42, u'Lon': -81.42}  1605205080  4159553   \n",
      "\n",
      "                                                main            name  rain  \\\n",
      "0  {u'temp': 83.03, u'temp_max': 86, u'humidity':...     Golden Gate  None   \n",
      "1  {u'temp': 82.17, u'temp_max': 82.4, u'humidity...          Naples  None   \n",
      "2  {u'temp': 82.51, u'grnd_level': 1012, u'temp_m...  Bonita Springs  None   \n",
      "3  {u'temp': 84.9, u'temp_max': 86, u'humidity': ...       Immokalee  None   \n",
      "\n",
      "   snow  visibility                                            weather  \\\n",
      "0  None       10000  [{u'main': u'Clouds', u'id': 804, u'icon': u'0...   \n",
      "1  None       10000  [{u'main': u'Clouds', u'id': 804, u'icon': u'0...   \n",
      "2  None       10000  [{u'main': u'Clouds', u'id': 804, u'icon': u'0...   \n",
      "3  None       10000  [{u'main': u'Clouds', u'id': 803, u'icon': u'0...   \n",
      "\n",
      "                                     wind  \n",
      "0   {u'speed': 8.0529706514, u'deg': 230}  \n",
      "1   {u'speed': 8.0529706514, u'deg': 230}  \n",
      "2    {u'speed': 5.0107372942, u'deg': 32}  \n",
      "3  {u'speed': 10.2899069435, u'deg': 250}  \n",
      "\n",
      "Weather Report at Location #1\n",
      "Temp_C =  27.8722222222\n",
      "Location 1:  Naples\n",
      "Wind speed:  8.0529706514\n",
      "Wind direction:  230\n",
      "Temperature:  82.17\n",
      "Humidity:  78\n",
      "Pressure:  1013\n",
      "Theta-e:  355.587462936\n",
      "\n",
      "Weather Report at Location #2\n",
      "Temp_C =  29.3888888889\n",
      "Location 2:  Immokalee\n",
      "Wind speed:  10.2899069435\n",
      "Wind direction:  250\n",
      "Temperature:  84.9\n",
      "Humidity:  70\n",
      "Pressure:  1013\n",
      "Theta-e:  355.972021747\n",
      "\n",
      "Weather Report at Location #3\n",
      "Temp_C =  28.35\n",
      "Location 3:  Golden Gate\n",
      "Wind speed:  8.0529706514\n",
      "Wind direction:  230\n",
      "Temperature:  83.03\n",
      "Humidity:  78\n",
      "Pressure:  1013\n",
      "Theta-e:  357.630552185\n",
      "\n",
      "Weather Report at Location #4\n",
      "Temp_C =  28.0611111111\n",
      "Location 4:  Bonita Springs\n",
      "Wind speed:  5.0107372942\n",
      "Wind direction:  32\n",
      "Temperature:  82.51\n",
      "Humidity:  88\n",
      "Pressure:  1012\n",
      "Theta-e:  363.692146214\n"
     ]
    }
   ],
   "source": [
    "#Invoke json_normalize function to generate a regional weather report in table format\n",
    "wx_data = json_normalize(data.to_dict('series'), 'list') \n",
    "print(wx_data)\n",
    "\n",
    "#Extract weather observation parameters and print weather reports for two selected stations \n",
    "print(\"\")\n",
    "print(\"Weather Report at Location #1\")\n",
    "loc1 = wx_data['name'][1]\n",
    "windspd_loc1 = wx_data['wind'][1]['speed']\n",
    "winddir_loc1 = wx_data['wind'][1]['deg']\n",
    "temp_loc1 = wx_data['main'][1]['temp']\n",
    "RH_loc1 = wx_data['main'][1]['humidity']\n",
    "pressure_loc1 = wx_data['main'][1]['pressure']\n",
    "thetae_loc1 = compthetae(temp_loc1,RH_loc1,pressure_loc1)\n",
    "print(\"Location 1: \", loc1)\n",
    "print(\"Wind speed: \", windspd_loc1)\n",
    "print(\"Wind direction: \", winddir_loc1)\n",
    "print(\"Temperature: \", temp_loc1)\n",
    "print(\"Humidity: \", RH_loc1)\n",
    "print(\"Pressure: \", pressure_loc1)\n",
    "print(\"Theta-e: \", thetae_loc1)\n",
    "\n",
    "print(\"\")\n",
    "print(\"Weather Report at Location #2\")\n",
    "loc2 = wx_data['name'][3]\n",
    "windspd_loc2 = wx_data['wind'][3]['speed']\n",
    "winddir_loc2 = wx_data['wind'][3]['deg']\n",
    "temp_loc2 = wx_data['main'][3]['temp']\n",
    "RH_loc2 = wx_data['main'][3]['humidity']\n",
    "pressure_loc2 = wx_data['main'][3]['pressure']\n",
    "thetae_loc2 = compthetae(temp_loc2,RH_loc2,pressure_loc2)\n",
    "print(\"Location 2: \", loc2)\n",
    "print(\"Wind speed: \", windspd_loc2)\n",
    "print(\"Wind direction: \", winddir_loc2)\n",
    "print(\"Temperature: \", temp_loc2)\n",
    "print(\"Humidity: \", RH_loc2)\n",
    "print(\"Pressure: \", pressure_loc2)\n",
    "print(\"Theta-e: \", thetae_loc2)\n",
    "\n",
    "print(\"\")\n",
    "print(\"Weather Report at Location #3\")\n",
    "loc3 = wx_data['name'][0]\n",
    "windspd_loc3 = wx_data['wind'][0]['speed']\n",
    "winddir_loc3 = wx_data['wind'][0]['deg']\n",
    "temp_loc3 = wx_data['main'][0]['temp']\n",
    "RH_loc3 = wx_data['main'][0]['humidity']\n",
    "pressure_loc3 = wx_data['main'][0]['pressure']\n",
    "thetae_loc3 = compthetae(temp_loc3,RH_loc3,pressure_loc3)\n",
    "print(\"Location 3: \", loc3)\n",
    "print(\"Wind speed: \", windspd_loc3)\n",
    "print(\"Wind direction: \", winddir_loc3)\n",
    "print(\"Temperature: \", temp_loc3)\n",
    "print(\"Humidity: \", RH_loc3)\n",
    "print(\"Pressure: \", pressure_loc3)\n",
    "print(\"Theta-e: \", thetae_loc3)\n",
    "\n",
    "print(\"\")\n",
    "print(\"Weather Report at Location #4\")\n",
    "loc4 = wx_data['name'][2]\n",
    "windspd_loc4 = wx_data['wind'][2]['speed']\n",
    "winddir_loc4 = wx_data['wind'][2]['deg']\n",
    "temp_loc4 = wx_data['main'][2]['temp']\n",
    "RH_loc4 = wx_data['main'][2]['humidity']\n",
    "pressure_loc4 = wx_data['main'][2]['pressure']\n",
    "thetae_loc4 = compthetae(temp_loc4,RH_loc4,pressure_loc4)\n",
    "print(\"Location 4: \", loc4)\n",
    "print(\"Wind speed: \", windspd_loc4)\n",
    "print(\"Wind direction: \", winddir_loc4)\n",
    "print(\"Temperature: \", temp_loc4)\n",
    "print(\"Humidity: \", RH_loc4)\n",
    "print(\"Pressure: \", pressure_loc4)\n",
    "print(\"Theta-e: \", thetae_loc4)\n",
    " "
   ]
  },
  {
   "cell_type": "markdown",
   "metadata": {},
   "source": [
    "## Execute a decision tree to 1) determine the presence of a frontal boundary and 2) determine the possibility of deep, moist convective storms (thunderstorms)."
   ]
  },
  {
   "cell_type": "code",
   "execution_count": 4,
   "metadata": {},
   "outputs": [
    {
     "name": "stdout",
     "output_type": "stream",
     "text": [
      "Theta-e difference between location #1 and location #2 =  0.3845588108920879\n",
      "False True\n",
      "Wind divergence - frontal boundary not present\n",
      "Cumulus cloud development possible\n"
     ]
    }
   ],
   "source": [
    "#Compute theta-e difference between two stations\n",
    "delta_thetae = np.absolute(thetae_loc2 - thetae_loc1)\n",
    "print(\"Theta-e difference between location #1 and location #2 = \", delta_thetae)\n",
    "\n",
    "#Test for veering winds between the two stations\n",
    "if winddir_loc2 < winddir_loc1:\n",
    "    winddirdiff = np.absolute(winddir_loc1 - winddir_loc2)\n",
    "    if winddirdiff >= 45: #Test for a significant wind shift between the two stations\n",
    "        wshift = True\n",
    "    else:\n",
    "        wshift = False\n",
    "    #Test for the presence of a theta-e gradient. If a gradient is present, test for\n",
    "    #values above two thresholds for severe thunderstorms (>330K) and ordinary thunderstorms (>310K), respectively\n",
    "    if delta_thetae > 0:\n",
    "        if thetae_loc2 > 330:\n",
    "            svrstorms = True\n",
    "            storms = True\n",
    "            cumulus = True\n",
    "        elif thetae_loc2 > 310:\n",
    "            svrstorms = False\n",
    "            storms = True\n",
    "            cumulus = True\n",
    "        else:\n",
    "            svrstorms = False\n",
    "            storms = False\n",
    "            cumulus = True\n",
    "    elif thetae_loc2 > 300:\n",
    "        svrstorms = False\n",
    "        storms = False\n",
    "        cumulus = True\n",
    "    else:\n",
    "        svrstorms = False\n",
    "        storms = False\n",
    "        cumulus = False\n",
    "        \n",
    "    div = False #Wind convergence is present\n",
    "    \n",
    "    print(\"\")\n",
    "    \n",
    "    if wshift == True:\n",
    "        print(\"Wind convergence - frontal boundary present\")\n",
    "    else:\n",
    "        print(\"Wind convergence - frontal boundary not present\")\n",
    "    if svrstorms == True:\n",
    "        print(\"Severe storm and MCS development possible\")\n",
    "    elif storms == True:\n",
    "        print(\"Scattered storm development possible\")\n",
    "    else:        \n",
    "        print(\"Cumulus cloud development possible\")\n",
    "\n",
    "#Test for backing winds between the two stations        \n",
    "elif winddir_loc2 > winddir_loc1:\n",
    "    winddirdiff = np.absolute(winddir_loc1 - winddir_loc2)\n",
    "    wshift = False\n",
    "    div = True\n",
    "    print(wshift,div)\n",
    "    #Test for the theta-e threshold for cumulus cloud development (310K)\n",
    "    if thetae_loc2 > 310:\n",
    "            svrstorms = False\n",
    "            storms = False\n",
    "            cumulus = True\n",
    "    print(\"Wind divergence - frontal boundary not present\")\n",
    "    if cumulus == True:\n",
    "        print(\"Cumulus cloud development possible\")    \n",
    "else:\n",
    "    winddirdiff = np.absolute(winddir_loc1 - winddir_loc2)\n",
    "    wshift = False\n",
    "    div = False\n",
    "    print(wshift,div)\n",
    "    if thetae_loc2 > 310:\n",
    "            svrstorms = False\n",
    "            storms = False\n",
    "            cumulus = True\n",
    "    print(\"Frontal boundary not present\")\n",
    "    if cumulus == True:\n",
    "        print(\"Cumulus cloud development possible\")    "
   ]
  },
  {
   "cell_type": "markdown",
   "metadata": {},
   "source": [
    "## Build dictionaries and a data frame containing weather report and derived parameter data; save data frame as a .csv file in the \"data\" directory."
   ]
  },
  {
   "cell_type": "code",
   "execution_count": 5,
   "metadata": {},
   "outputs": [
    {
     "name": "stdout",
     "output_type": "stream",
     "text": [
      "\n",
      "Directory 'data' created\n",
      "\n",
      "Weather Analysis Report Dataset\n",
      "  Cumulus_clouds Divergence Humidity Location 1 Location 2   Location 3  \\\n",
      "0           True       True                                               \n",
      "1                                 78     Naples                           \n",
      "2                                 70             Immokalee                \n",
      "3                                 78                        Golden Gate   \n",
      "4                                 88                                      \n",
      "\n",
      "       Location 4 Pressure Scattered_storms Severe_storms Temperature  \\\n",
      "0                                     False         False               \n",
      "1                     1013                                      82.17   \n",
      "2                     1013                                       84.9   \n",
      "3                     1013                                      83.03   \n",
      "4  Bonita Springs     1012                                      82.51   \n",
      "\n",
      "  Theta-e: Wind direction Wind speed Wind_shift delta_thetae  \\\n",
      "0                                         False     0.384559   \n",
      "1  355.587            230    8.05297                           \n",
      "2  355.972            250    10.2899                           \n",
      "3  357.631            230    8.05297                           \n",
      "4  363.692             32    5.01074                           \n",
      "\n",
      "  delta_wind_direction  \n",
      "0                   20  \n",
      "1                       \n",
      "2                       \n",
      "3                       \n",
      "4                       \n"
     ]
    }
   ],
   "source": [
    "#Build dictionaries containing weather observation data for two stations\n",
    "dict_wxdata_loc1 = {'Location 1' : loc1, 'Wind speed' : windspd_loc1, 'Wind direction' : winddir_loc1, 'Temperature' : temp_loc1,\n",
    "              'Humidity' : RH_loc1, 'Pressure' : pressure_loc1, 'Theta-e:' : thetae_loc1} \n",
    "\n",
    "dict_wxdata_loc2 = {'Location 2' : loc2, 'Wind speed' : windspd_loc2, 'Wind direction' : winddir_loc2, 'Temperature' : temp_loc2,\n",
    "              'Humidity' : RH_loc2, 'Pressure' : pressure_loc2, 'Theta-e:' : thetae_loc2} \n",
    "\n",
    "dict_wxdata_loc3 = {'Location 3' : loc3, 'Wind speed' : windspd_loc3, 'Wind direction' : winddir_loc3, 'Temperature' : temp_loc3,\n",
    "              'Humidity' : RH_loc3, 'Pressure' : pressure_loc3, 'Theta-e:' : thetae_loc3} \n",
    "\n",
    "dict_wxdata_loc4 = {'Location 4' : loc4, 'Wind speed' : windspd_loc4, 'Wind direction' : winddir_loc4, 'Temperature' : temp_loc4,\n",
    "              'Humidity' : RH_loc4, 'Pressure' : pressure_loc4, 'Theta-e:' : thetae_loc4} \n",
    "\n",
    "#Build dictionary containing derived parameters\n",
    "dict_wxanal = {'delta_thetae' : delta_thetae, 'delta_wind_direction' : winddirdiff, 'Wind_shift' : wshift, 'Divergence' : div,\n",
    "          'Severe_storms' : svrstorms, 'Scattered_storms' : storms, 'Cumulus_clouds' : cumulus} \n",
    "print(\"\")\n",
    "# Directory \n",
    "directory = 'data'\n",
    "#os.mkdir(directory) \n",
    "print(\"Directory '% s' created\" % directory) \n",
    "print(\"\")\n",
    "#Build data frame from the dictionaries and save as .csv file in 'data' directory\n",
    "df_wxanal = pd.DataFrame([dict_wxanal,dict_wxdata_loc1,dict_wxdata_loc2,dict_wxdata_loc3,dict_wxdata_loc4])\n",
    "df_wxanal = df_wxanal.fillna('')\n",
    "df_wxanal.to_csv(r'data\\wxanal.csv')\n",
    "print(\"Weather Analysis Report Dataset\")\n",
    "print(df_wxanal)\n"
   ]
  },
  {
   "cell_type": "markdown",
   "metadata": {},
   "source": [
    "## Discussion/Summary:\n",
    "This study demonstrated that equivalent potential temperature (theta-e) can indicate the amount of moist heating near the ground and the resultant instability that favors intense updrafts and convective storm initiation. The presence wind convergence (confluence) or divergence (diffluence) within the study region signified the potential for convective cloud formation. Theta-e values greater than 330 degrees Kelvin (K) strongly indicated the potential for deep, moist convective storms (i.e., thunderstorms), especially in the presence of a frontal boundary. Over southwestern Florida, sea-breeze fronts and cold fronts are the most commonly occurring. This application obtained surface weather observations over a roughly 1-degree latitude by 1-degree longitude boxed area and performed a function to infer the presence of wind convergence and an associated frontal boundary. "
   ]
  },
  {
   "cell_type": "markdown",
   "metadata": {},
   "source": [
    "## Further research: \n",
    "Validate frontal and storm diagnosis against regional remote sensing datasets, including weather radar and satellite imagery."
   ]
  },
  {
   "cell_type": "markdown",
   "metadata": {},
   "source": [
    "## References: \n",
    "\n",
    "Johns, R. H., and C. A. Doswell, 1992: Severe local storms forecasting. Wea. Forecasting, 7, 588–612, DOI:10.1175/ 1520-0434(1992)007,0588:SLSF.2.0.CO;2.\n",
    "\n",
    "Revering, Andrew. “Equivalent Potential Temperature.” gradsusr.org/pipermail/gradsusr/2010-January/010266.html. Accessed 8 October 2020."
   ]
  },
  {
   "cell_type": "code",
   "execution_count": null,
   "metadata": {},
   "outputs": [],
   "source": []
  }
 ],
 "metadata": {
  "kernelspec": {
   "display_name": "Python 2",
   "language": "python",
   "name": "python2"
  },
  "language_info": {
   "codemirror_mode": {
    "name": "ipython",
    "version": 2
   },
   "file_extension": ".py",
   "mimetype": "text/x-python",
   "name": "python",
   "nbconvert_exporter": "python",
   "pygments_lexer": "ipython2",
   "version": "2.7.16"
  }
 },
 "nbformat": 4,
 "nbformat_minor": 2
}
