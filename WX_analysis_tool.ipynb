{
 "cells": [
  {
   "cell_type": "markdown",
   "metadata": {},
   "source": [
    "# DATA 601 Homework 2\n",
    "# Convective Weather Analysis Tool\n",
    "## Python weather analysis application that detects the presence of frontal boundaries and assesses thunderstorm potential."
   ]
  },
  {
   "cell_type": "markdown",
   "metadata": {},
   "source": [
    "### Overview: Convective cloud and storm development is a common occurrence over southwest Florida during the warm season (i.e., April - October). This Python code package provides a surface weather analysis technique that assesses the thermodynamic energy state of the atmosphere near the surface (ground) and identifies dynamic factors that favor or inhibit convective storm (i.e., thunderstorm) development over sub-tropical coastal areas."
   ]
  },
  {
   "cell_type": "markdown",
   "metadata": {},
   "source": [
    "### Example of cumulus-cloud filled sky over southwest Florida\n",
    "<img src= \"images/IMG_3210.JPEG\">"
   ]
  },
  {
   "cell_type": "markdown",
   "metadata": {},
   "source": [
    "### Abstract:\n",
    "Convective cloud and storm development is a common occurrence over southwest Florida during the Northern Hemisphere warm season (i.e., April - October). Cumulus clouds develop in convection currents resulting from heating near the Earth’s surface. Deep, moist convection can also pose a threat to public safety and aviation operations. Convective cloud (i.e., cumulus cloud, see https://cloudatlas.wmo.int/en/cumulus-cu.html) and, in some cases, subsequent convective storm development can be effectively anticipated from observed weather conditions near the ground. Necessary ingredients for convective cloud development typically includes (1) a moist layer of sufficient depth in the lower atmosphere, and (2) adequate lifting of an air parcel from the moist layer to allow free convection (Johns and Doswell 1992). Equivalent potential temperature (theta-e) can indicate the amount of moist heating near the ground and the resultant instability that favors intense updrafts (i.e., vertically moving air at a high velocity). Lifting of an air parcel from the ground surface typically results from wind convergence (confluence) along the frontal boundary, defined as an air mass discontinuity. Theta-e values greater than 330 degrees Kelvin (K) strongly indicate the potential for deep, moist convective storms (i.e., thunderstorms), especially in the presence of a frontal boundary. Over southwestern Florida, sea-breeze fronts and cold fronts are the most commonly occurring. This application will obtain surface weather observations over a roughly 1-degree latitude by 1-degree longitude boxed area and perform a function to infer the presence of wind convergence and an associated frontal boundary. The theta-e parameter will then be analyzed to determine the potential development of cumulus clouds and thunderstorm activity.\n",
    "\n",
    "### Research Questions:\n",
    "1. What is the relationship between surface equivalent potential temperature patterns and thunderstorm potential?\n",
    "2. How does dynamic forcing (i.e., divergence, convergence) interact with thermodynamic instability in thunderstorm initiation?\n",
    "3. How can this relationship be quantified, modeled, and assessed?\n",
    "\n",
    "### Methodology:\n",
    "This notebook generates tables, weather reports, and diagnostic output. Consists of five blocks that are executed in succession:\n",
    "- Invoke Pandas to read and load weather observation data from [OpenWeather API](https://openweathermap.org/current) in JSON format from stations within the defined rectangular boundary.\n",
    "- Define and execute a function that calculates equivalent potential temperature (i.e., theta-e) from temperature and relative humidity values.\n",
    "- Invoke json_normalize function to generate a regional weather report in table format. Extract weather observation data and print weather reports for two selected locations within the rectangular boundary.\n",
    "- Execute a decision tree to 1) determine the presence of a frontal boundary, and 2) determine the possibility of deep, moist convective storms (thunderstorms).\n",
    "- Build dictionaries and a data frame containing weather report and derived parameter data; save data frame as a .csv file in the “data” directory.\n"
   ]
  },
  {
   "cell_type": "markdown",
   "metadata": {},
   "source": [
    "## Invoke Pandas to read and load weather observation data in JSON format from stations within the defined rectangular boundary."
   ]
  },
  {
   "cell_type": "code",
   "execution_count": 1,
   "metadata": {
    "scrolled": false
   },
   "outputs": [
    {
     "name": "stdout",
     "output_type": "stream",
     "text": [
      "   calctime  cnt  cod                                               list\n",
      "0  0.001692    4  200  {u'clouds': {u'today': 90}, u'name': u'Golden ...\n",
      "1  0.001692    4  200  {u'clouds': {u'today': 90}, u'name': u'Naples'...\n",
      "2  0.001692    4  200  {u'clouds': {u'today': 100}, u'name': u'Bonita...\n",
      "3  0.001692    4  200  {u'clouds': {u'today': 75}, u'name': u'Immokal...\n",
      "\n",
      "   clouds.today  coord.Lat  coord.Lon          dt       id  main.feels_like  \\\n",
      "0            90      26.19     -81.70  1605103785  4156920            77.47   \n",
      "1            90      26.14     -81.79  1605103785  4165565            77.41   \n",
      "2           100      26.34     -81.78  1605103785  4148533            85.23   \n",
      "3            75      26.42     -81.42  1605103785  4159553            82.11   \n",
      "\n",
      "   main.grnd_level  main.humidity  main.pressure  main.sea_level  ...  \\\n",
      "0              NaN             88           1008             NaN  ...   \n",
      "1              NaN             88           1008             NaN  ...   \n",
      "2           1008.0             95           1008          1008.0  ...   \n",
      "3              NaN             88           1009             NaN  ...   \n",
      "\n",
      "   main.temp_max  main.temp_min            name rain  rain.1h  snow  \\\n",
      "0           79.0          77.00     Golden Gate  NaN     3.65  None   \n",
      "1           78.8          78.01          Naples  NaN     0.75  None   \n",
      "2           79.0          77.00  Bonita Springs  NaN     3.65  None   \n",
      "3           79.0          78.80       Immokalee  NaN      NaN  None   \n",
      "\n",
      "  visibility                                            weather wind.deg  \\\n",
      "0       6437  [{u'description': u'moderate rain', u'main': u...      120   \n",
      "1       6437  [{u'description': u'light rain', u'main': u'Ra...      120   \n",
      "2      10000  [{u'description': u'moderate rain', u'main': u...      213   \n",
      "3      10000  [{u'description': u'broken clouds', u'main': u...      120   \n",
      "\n",
      "   wind.speed  \n",
      "0   19.461346  \n",
      "1   19.461346  \n",
      "2    5.994989  \n",
      "3   12.750537  \n",
      "\n",
      "[4 rows x 21 columns]\n"
     ]
    }
   ],
   "source": [
    "from __future__ import print_function, division\n",
    "import numpy as np\n",
    "import pandas as pd \n",
    "import sys\n",
    "from pandas.io.json import json_normalize \n",
    "import os, ssl\n",
    "\n",
    "if (not os.environ.get('PYTHONHTTPSVERIFY', '') and\n",
    "getattr(ssl, '_create_unverified_context', None)):\n",
    "    ssl._create_default_https_context = ssl._create_unverified_context\n",
    "\n",
    "data = pd.read_json(r'https://api.openweathermap.org/data/2.5/box/city?bbox=-82,25.5,-81,26.5,10&units=imperial&appid=edc8e66602652591b418f7492de29f82')\n",
    "print(data)\n",
    "print(\"\")\n",
    "\n",
    "#Print weather observation table from JSON dataset\n",
    "wxobs = json_normalize(data['list']) \n",
    "print(wxobs)"
   ]
  },
  {
   "cell_type": "markdown",
   "metadata": {},
   "source": [
    "## Define and execute a function that calculates equivalent potential temperature (i.e., theta-e) from temperature and relative humidity values as documented by Andrew Revering, Convective Development, Inc., http://gradsusr.org/pipermail/gradsusr/2010-January/010266.html"
   ]
  },
  {
   "cell_type": "code",
   "execution_count": 2,
   "metadata": {},
   "outputs": [],
   "source": [
    "def compthetae(temp,RH,pressure):\n",
    "    tempc = (temp - 32) / 1.8\n",
    "    print(\"Temp_C = \", tempc)\n",
    "    #Calculate theta-e. Units are in degrees Kelvin (K)\n",
    "    thetae = (273.15 + tempc)*((1000/pressure)**0.286)+(3 * (RH * (3.884266 * 10**\n",
    "         ((7.5 * tempc)/(237.7 + tempc)))/100))\n",
    "    return thetae"
   ]
  },
  {
   "cell_type": "markdown",
   "metadata": {},
   "source": [
    "## Invoke json_normalize function to generate a regional weather report in table format. Extract weather observation data and print weather reports for two selected locations within the rectangular boundary."
   ]
  },
  {
   "cell_type": "code",
   "execution_count": 3,
   "metadata": {
    "scrolled": false
   },
   "outputs": [
    {
     "name": "stdout",
     "output_type": "stream",
     "text": [
      "            clouds                            coord          dt       id  \\\n",
      "0   {u'today': 90}   {u'Lat': 26.19, u'Lon': -81.7}  1605103785  4156920   \n",
      "1   {u'today': 90}  {u'Lat': 26.14, u'Lon': -81.79}  1605103785  4165565   \n",
      "2  {u'today': 100}  {u'Lat': 26.34, u'Lon': -81.78}  1605103785  4148533   \n",
      "3   {u'today': 75}  {u'Lat': 26.42, u'Lon': -81.42}  1605103785  4159553   \n",
      "\n",
      "                                                main            name  \\\n",
      "0  {u'temp': 78.37, u'temp_max': 79, u'humidity':...     Golden Gate   \n",
      "1  {u'temp': 78.33, u'temp_max': 78.8, u'humidity...          Naples   \n",
      "2  {u'temp': 77.61, u'grnd_level': 1008, u'temp_m...  Bonita Springs   \n",
      "3  {u'temp': 78.91, u'temp_max': 79, u'humidity':...       Immokalee   \n",
      "\n",
      "            rain  snow  visibility  \\\n",
      "0  {u'1h': 3.65}  None        6437   \n",
      "1  {u'1h': 0.75}  None        6437   \n",
      "2  {u'1h': 3.65}  None       10000   \n",
      "3           None  None       10000   \n",
      "\n",
      "                                             weather  \\\n",
      "0  [{u'main': u'Rain', u'id': 501, u'icon': u'10d...   \n",
      "1  [{u'main': u'Rain', u'id': 500, u'icon': u'10d...   \n",
      "2  [{u'main': u'Rain', u'id': 501, u'icon': u'10d...   \n",
      "3  [{u'main': u'Clouds', u'id': 803, u'icon': u'0...   \n",
      "\n",
      "                                     wind  \n",
      "0  {u'speed': 19.4613457409, u'deg': 120}  \n",
      "1  {u'speed': 19.4613457409, u'deg': 120}  \n",
      "2  {u'speed': 5.99498926271, u'deg': 213}  \n",
      "3  {u'speed': 12.7505368647, u'deg': 120}  \n",
      "\n",
      "Weather Report at Location #1\n",
      "Temp_C =  25.7388888889\n",
      "Location 1:  Naples\n",
      "Wind speed:  19.4613457409\n",
      "Wind direction:  120\n",
      "Temperature:  78.33\n",
      "Humidity:  88\n",
      "Pressure:  1008\n",
      "Theta-e:  353.631368264\n",
      "\n",
      "Weather Report at Location #2\n",
      "Temp_C =  26.0611111111\n",
      "Location 2:  Immokalee\n",
      "Wind speed:  12.7505368647\n",
      "Wind direction:  120\n",
      "Temperature:  78.91\n",
      "Humidity:  88\n",
      "Pressure:  1009\n",
      "Theta-e:  354.933332323\n"
     ]
    }
   ],
   "source": [
    "#Invoke json_normalize function to generate a regional weather report in table format\n",
    "wx_data = json_normalize(data.to_dict('series'), 'list') \n",
    "print(wx_data)\n",
    "\n",
    "#Extract weather observation parameters and print weather reports for two selected stations \n",
    "print(\"\")\n",
    "print(\"Weather Report at Location #1\")\n",
    "loc1 = wx_data['name'][1]\n",
    "windspd_loc1 = wx_data['wind'][1]['speed']\n",
    "winddir_loc1 = wx_data['wind'][1]['deg']\n",
    "temp_loc1 = wx_data['main'][1]['temp']\n",
    "RH_loc1 = wx_data['main'][1]['humidity']\n",
    "pressure_loc1 = wx_data['main'][1]['pressure']\n",
    "thetae_loc1 = compthetae(temp_loc1,RH_loc1,pressure_loc1)\n",
    "print(\"Location 1: \", loc1)\n",
    "print(\"Wind speed: \", windspd_loc1)\n",
    "print(\"Wind direction: \", winddir_loc1)\n",
    "print(\"Temperature: \", temp_loc1)\n",
    "print(\"Humidity: \", RH_loc1)\n",
    "print(\"Pressure: \", pressure_loc1)\n",
    "print(\"Theta-e: \", thetae_loc1)\n",
    "\n",
    "print(\"\")\n",
    "print(\"Weather Report at Location #2\")\n",
    "loc2 = wx_data['name'][3]\n",
    "windspd_loc2 = wx_data['wind'][3]['speed']\n",
    "winddir_loc2 = wx_data['wind'][3]['deg']\n",
    "temp_loc2 = wx_data['main'][3]['temp']\n",
    "RH_loc2 = wx_data['main'][3]['humidity']\n",
    "pressure_loc2 = wx_data['main'][3]['pressure']\n",
    "thetae_loc2 = compthetae(temp_loc2,RH_loc2,pressure_loc2)\n",
    "print(\"Location 2: \", loc2)\n",
    "print(\"Wind speed: \", windspd_loc2)\n",
    "print(\"Wind direction: \", winddir_loc2)\n",
    "print(\"Temperature: \", temp_loc2)\n",
    "print(\"Humidity: \", RH_loc2)\n",
    "print(\"Pressure: \", pressure_loc2)\n",
    "print(\"Theta-e: \", thetae_loc2)\n",
    " "
   ]
  },
  {
   "cell_type": "markdown",
   "metadata": {},
   "source": [
    "## Execute a decision tree to 1) determine the presence of a frontal boundary and 2) determine the possibility of deep, moist convective storms (thunderstorms)."
   ]
  },
  {
   "cell_type": "code",
   "execution_count": 4,
   "metadata": {},
   "outputs": [
    {
     "name": "stdout",
     "output_type": "stream",
     "text": [
      "Theta-e difference between location #1 and location #2 =  1.3019640595263127\n",
      "False False\n",
      "Frontal boundary not present\n",
      "Cumulus cloud development possible\n"
     ]
    }
   ],
   "source": [
    "#Compute theta-e difference between two stations\n",
    "delta_thetae = np.absolute(thetae_loc2 - thetae_loc1)\n",
    "print(\"Theta-e difference between location #1 and location #2 = \", delta_thetae)\n",
    "\n",
    "#Test for veering winds between the two stations\n",
    "if winddir_loc2 < winddir_loc1:\n",
    "    winddirdiff = np.absolute(winddir_loc1 - winddir_loc2)\n",
    "    if winddirdiff >= 45: #Test for a significant wind shift between the two stations\n",
    "        wshift = True\n",
    "    else:\n",
    "        wshift = False\n",
    "    #Test for the presence of a theta-e gradient. If a gradient is present, test for\n",
    "    #values above two thresholds for severe thunderstorms (>330K) and ordinary thunderstorms (>310K), respectively\n",
    "    if delta_thetae > 0:\n",
    "        if thetae_loc2 > 330:\n",
    "            svrstorms = True\n",
    "            storms = True\n",
    "            cumulus = True\n",
    "        elif thetae_loc2 > 310:\n",
    "            svrstorms = False\n",
    "            storms = True\n",
    "            cumulus = True\n",
    "        else:\n",
    "            svrstorms = False\n",
    "            storms = False\n",
    "            cumulus = True\n",
    "    elif thetae_loc2 > 300:\n",
    "        svrstorms = False\n",
    "        storms = False\n",
    "        cumulus = True\n",
    "    else:\n",
    "        svrstorms = False\n",
    "        storms = False\n",
    "        cumulus = False\n",
    "        \n",
    "    div = False #Wind convergence is present\n",
    "    \n",
    "    print(\"\")\n",
    "    \n",
    "    if wshift == True:\n",
    "        print(\"Wind convergence - frontal boundary present\")\n",
    "    else:\n",
    "        print(\"Wind convergence - frontal boundary not present\")\n",
    "    if svrstorms == True:\n",
    "        print(\"Severe storm and MCS development possible\")\n",
    "    elif storms == True:\n",
    "        print(\"Scattered storm development possible\")\n",
    "    else:        \n",
    "        print(\"Cumulus cloud development possible\")\n",
    "\n",
    "#Test for backing winds between the two stations        \n",
    "elif winddir_loc2 > winddir_loc1:\n",
    "    winddirdiff = np.absolute(winddir_loc1 - winddir_loc2)\n",
    "    wshift = False\n",
    "    div = True\n",
    "    print(wshift,div)\n",
    "    #Test for the theta-e threshold for cumulus cloud development (310K)\n",
    "    if thetae_loc2 > 310:\n",
    "            svrstorms = False\n",
    "            storms = False\n",
    "            cumulus = True\n",
    "    print(\"Wind divergence - frontal boundary not present\")\n",
    "    if cumulus == True:\n",
    "        print(\"Cumulus cloud development possible\")    \n",
    "else:\n",
    "    winddirdiff = np.absolute(winddir_loc1 - winddir_loc2)\n",
    "    wshift = False\n",
    "    div = False\n",
    "    print(wshift,div)\n",
    "    if thetae_loc2 > 310:\n",
    "            svrstorms = False\n",
    "            storms = False\n",
    "            cumulus = True\n",
    "    print(\"Frontal boundary not present\")\n",
    "    if cumulus == True:\n",
    "        print(\"Cumulus cloud development possible\")    "
   ]
  },
  {
   "cell_type": "markdown",
   "metadata": {},
   "source": [
    "## Build dictionaries and a data frame containing weather report and derived parameter data; save data frame as a .csv file in the \"data\" directory."
   ]
  },
  {
   "cell_type": "code",
   "execution_count": 5,
   "metadata": {},
   "outputs": [
    {
     "name": "stdout",
     "output_type": "stream",
     "text": [
      "\n",
      "Directory 'data' created\n",
      "\n",
      "Weather Analysis Report Dataset\n",
      "  Cumulus_clouds Divergence Humidity Location 1 Location 2 Pressure  \\\n",
      "0           True      False                                           \n",
      "1                                 88     Naples                1008   \n",
      "2                                 88             Immokalee     1009   \n",
      "\n",
      "  Scattered_storms Severe_storms Temperature Theta-e: Wind direction  \\\n",
      "0            False         False                                       \n",
      "1                                      78.33  353.631            120   \n",
      "2                                      78.91  354.933            120   \n",
      "\n",
      "  Wind speed Wind_shift delta_thetae delta_wind_direction  \n",
      "0                 False      1.30196                    0  \n",
      "1    19.4613                                               \n",
      "2    12.7505                                               \n"
     ]
    }
   ],
   "source": [
    "#Build dictionaries containing weather observation data for two stations\n",
    "dict_wxdata_loc1 = {'Location 1' : loc1, 'Wind speed' : windspd_loc1, 'Wind direction' : winddir_loc1, 'Temperature' : temp_loc1,\n",
    "              'Humidity' : RH_loc1, 'Pressure' : pressure_loc1, 'Theta-e:' : thetae_loc1} \n",
    "\n",
    "dict_wxdata_loc2 = {'Location 2' : loc2, 'Wind speed' : windspd_loc2, 'Wind direction' : winddir_loc2, 'Temperature' : temp_loc2,\n",
    "              'Humidity' : RH_loc2, 'Pressure' : pressure_loc2, 'Theta-e:' : thetae_loc2} \n",
    "#Build dictionary containing derived parameters\n",
    "dict_wxanal = {'delta_thetae' : delta_thetae, 'delta_wind_direction' : winddirdiff, 'Wind_shift' : wshift, 'Divergence' : div,\n",
    "          'Severe_storms' : svrstorms, 'Scattered_storms' : storms, 'Cumulus_clouds' : cumulus} \n",
    "print(\"\")\n",
    "# Directory \n",
    "directory = 'data'\n",
    "#os.mkdir(directory) \n",
    "print(\"Directory '% s' created\" % directory) \n",
    "print(\"\")\n",
    "#Build data frame from the dictionaries and save as .csv file in 'data' directory\n",
    "df_wxanal = pd.DataFrame([dict_wxanal,dict_wxdata_loc1,dict_wxdata_loc2])\n",
    "df_wxanal = df_wxanal.fillna('')\n",
    "df_wxanal.to_csv(r'data\\wxanal.csv')\n",
    "print(\"Weather Analysis Report Dataset\")\n",
    "print(df_wxanal)\n"
   ]
  },
  {
   "cell_type": "markdown",
   "metadata": {},
   "source": [
    "## Discussion/Summary:\n",
    "This study demonstrated that equivalent potential temperature (theta-e) can indicate the amount of moist heating near the ground and the resultant instability that favors intense updrafts and convective storm initiation. The presence wind convergence (confluence) or divergence (diffluence) within the study region signified the potential for convective cloud formation. Theta-e values greater than 330 degrees Kelvin (K) strongly indicate the potential for deep, moist convective storms (i.e., thunderstorms), especially in the presence of a frontal boundary. Over southwestern Florida, sea-breeze fronts and cold fronts are the most commonly occurring. This application obtained surface weather observations over a roughly 1-degree latitude by 1-degree longitude boxed area and performed a function to infer the presence of wind convergence and an associated frontal boundary. "
   ]
  },
  {
   "cell_type": "markdown",
   "metadata": {},
   "source": [
    "## Further research: \n",
    "Validate frontal and storm diagnosis against regional remote sensing datasets, including weather radar and satellite imagery."
   ]
  },
  {
   "cell_type": "markdown",
   "metadata": {},
   "source": [
    "## References: \n",
    "\n",
    "Johns, R. H., and C. A. Doswell, 1992: Severe local storms forecasting. Wea. Forecasting, 7, 588–612, DOI:10.1175/ 1520-0434(1992)007,0588:SLSF.2.0.CO;2.\n",
    "\n",
    "Revering, Andrew. “Equivalent Potential Temperature.” gradsusr.org/pipermail/gradsusr/2010-January/010266.html. Accessed 8 October 2020."
   ]
  },
  {
   "cell_type": "code",
   "execution_count": null,
   "metadata": {},
   "outputs": [],
   "source": []
  }
 ],
 "metadata": {
  "kernelspec": {
   "display_name": "Python 2",
   "language": "python",
   "name": "python2"
  },
  "language_info": {
   "codemirror_mode": {
    "name": "ipython",
    "version": 2
   },
   "file_extension": ".py",
   "mimetype": "text/x-python",
   "name": "python",
   "nbconvert_exporter": "python",
   "pygments_lexer": "ipython2",
   "version": "2.7.16"
  }
 },
 "nbformat": 4,
 "nbformat_minor": 2
}
