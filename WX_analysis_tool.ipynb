{
 "cells": [
  {
   "cell_type": "markdown",
   "metadata": {},
   "source": [
    "# DATA 601 Homework 2\n",
    "# Convective Weather Analysis Tool\n",
    "## Python weather analysis application that detects the presence of frontal boundaries and assesses thunderstorm potential."
   ]
  },
  {
   "cell_type": "markdown",
   "metadata": {},
   "source": [
    "### Overview: Convective cloud and storm development is a common occurrence over southwest Florida during the warm season (i.e., April - October). This Python code package provides a surface weather analysis technique that assesses the thermodynamic energy state of the atmosphere near the surface (ground) and identifies dynamic factors that favor or inhibit convective storm (i.e., thunderstorm) development over sub-tropical coastal areas."
   ]
  },
  {
   "cell_type": "markdown",
   "metadata": {},
   "source": [
    "### Example of cumulus-cloud filled sky over southwest Florida\n",
    "<img src= \"images/IMG_3210.JPEG\">"
   ]
  },
  {
   "cell_type": "code",
   "execution_count": 2,
   "metadata": {},
   "outputs": [
    {
     "name": "stderr",
     "output_type": "stream",
     "text": [
      "This program is blocked by group policy. For more information, contact your system administrator.\n"
     ]
    },
    {
     "name": "stdout",
     "output_type": "stream",
     "text": [
      "{\"cod\":200,\"calctime\":0.002815382,\"cnt\":4,\"list\":[{\"id\":4156920,\"dt\":1602173578,\"name\":\"Golden Gate\",\"coord\":{\"Lon\":-81.7,\"Lat\":26.19},\"main\":{\"temp\":88.9,\"feels_like\":94.55,\"temp_min\":86,\"temp_max\":91.99,\"pressure\":1017,\"humidity\":70},\"visibility\":10000,\"wind\":{\"speed\":11.40837508947745,\"deg\":130},\"rain\":null,\"snow\":null,\"clouds\":{\"today\":1},\"weather\":[{\"id\":800,\"main\":\"Clear\",\"description\":\"clear sky\",\"icon\":\"01d\"}]},{\"id\":4165565,\"dt\":1602173579,\"name\":\"Naples\",\"coord\":{\"Lon\":-81.79,\"Lat\":26.14},\"main\":{\"temp\":87.35,\"feels_like\":92.08,\"temp_min\":86,\"temp_max\":89.01,\"pressure\":1017,\"humidity\":70},\"visibility\":10000,\"wind\":{\"speed\":11.40837508947745,\"deg\":130},\"rain\":null,\"snow\":null,\"clouds\":{\"today\":1},\"weather\":[{\"id\":800,\"main\":\"Clear\",\"description\":\"clear sky\",\"icon\":\"01d\"}]},{\"id\":4148533,\"dt\":1602173578,\"name\":\"Bonita Springs\",\"coord\":{\"Lon\":-81.78,\"Lat\":26.34},\"main\":{\"temp\":89.08,\"feels_like\":94.84,\"temp_min\":86,\"temp_max\":91.99,\"pressure\":1017,\"humidity\":70},\"visibility\":10000,\"wind\":{\"speed\":11.40837508947745,\"deg\":130},\"rain\":null,\"snow\":null,\"clouds\":{\"today\":1},\"weather\":[{\"id\":800,\"main\":\"Clear\",\"description\":\"clear sky\",\"icon\":\"01d\"}]},{\"id\":4159553,\"dt\":1602173578,\"name\":\"Immokalee\",\"coord\":{\"Lon\":-81.42,\"Lat\":26.42},\"main\":{\"temp\":90.1,\"feels_like\":95.23,\"temp_min\":89.01,\"temp_max\":91.99,\"pressure\":1017,\"humidity\":59},\"visibility\":10000,\"wind\":{\"speed\":8.05297065139585,\"deg\":120},\"rain\":null,\"snow\":null,\"clouds\":{\"today\":28},\"weather\":[{\"id\":802,\"main\":\"Clouds\",\"description\":\"scattered clouds\",\"icon\":\"03d\"}]}]}\n"
     ]
    }
   ],
   "source": [
    "#Load modules and invoke OpenWeather API\n",
    "from __future__ import print_function, division\n",
    "import numpy as np\n",
    "import sys\n",
    "!conda install -c conda-forge --yes --prefix {sys.prefix} requests\n",
    "import requests\n",
    "\n",
    "#Invoke requests to call OpenWeather API, call current weather data for rectangular zone\n",
    "#See https://openweathermap.org/current for parameter definition\n",
    "responsewx = requests.get(\"https://api.openweathermap.org/data/2.5/box/city?bbox=-82,25.5,-81,26.5,10&units=imperial&appid=edc8e66602652591b418f7492de29f82\")\n",
    "print(responsewx.content)"
   ]
  },
  {
   "cell_type": "markdown",
   "metadata": {},
   "source": [
    "## Invoke Pandas to read and load weather observation data in JSON format from stations within the defined rectangular boundary."
   ]
  },
  {
   "cell_type": "code",
   "execution_count": 3,
   "metadata": {},
   "outputs": [
    {
     "name": "stdout",
     "output_type": "stream",
     "text": [
      "   calctime  cnt  cod                                               list\n",
      "0  0.002815    4  200  {u'clouds': {u'today': 1}, u'name': u'Golden G...\n",
      "1  0.002815    4  200  {u'clouds': {u'today': 1}, u'name': u'Naples',...\n",
      "2  0.002815    4  200  {u'clouds': {u'today': 1}, u'name': u'Bonita S...\n",
      "3  0.002815    4  200  {u'clouds': {u'today': 28}, u'name': u'Immokal...\n",
      "\n",
      "   clouds.today  coord.Lat  coord.Lon          dt       id  main.feels_like  \\\n",
      "0             1      26.19     -81.70  1602173578  4156920            94.55   \n",
      "1             1      26.14     -81.79  1602173579  4165565            92.08   \n",
      "2             1      26.34     -81.78  1602173578  4148533            94.84   \n",
      "3            28      26.42     -81.42  1602173578  4159553            95.23   \n",
      "\n",
      "   main.humidity  main.pressure  main.temp  main.temp_max  main.temp_min  \\\n",
      "0             70           1017      88.90          91.99          86.00   \n",
      "1             70           1017      87.35          89.01          86.00   \n",
      "2             70           1017      89.08          91.99          86.00   \n",
      "3             59           1017      90.10          91.99          89.01   \n",
      "\n",
      "             name  rain  snow  visibility  \\\n",
      "0     Golden Gate  None  None       10000   \n",
      "1          Naples  None  None       10000   \n",
      "2  Bonita Springs  None  None       10000   \n",
      "3       Immokalee  None  None       10000   \n",
      "\n",
      "                                             weather  wind.deg  wind.speed  \n",
      "0  [{u'description': u'clear sky', u'main': u'Cle...       130   11.408375  \n",
      "1  [{u'description': u'clear sky', u'main': u'Cle...       130   11.408375  \n",
      "2  [{u'description': u'clear sky', u'main': u'Cle...       130   11.408375  \n",
      "3  [{u'description': u'scattered clouds', u'main'...       120    8.052971  \n"
     ]
    }
   ],
   "source": [
    "import pandas as pd \n",
    "from pandas.io.json import json_normalize \n",
    "import os, ssl\n",
    "\n",
    "if (not os.environ.get('PYTHONHTTPSVERIFY', '') and\n",
    "getattr(ssl, '_create_unverified_context', None)):\n",
    "    ssl._create_default_https_context = ssl._create_unverified_context\n",
    "\n",
    "data = pd.read_json(r'https://api.openweathermap.org/data/2.5/box/city?bbox=-82,25.5,-81,26.5,10&units=imperial&appid=edc8e66602652591b418f7492de29f82')\n",
    "print(data)\n",
    "print(\"\")\n",
    "\n",
    "#Print weather observation table from JSON dataset\n",
    "wxobs = json_normalize(data['list']) \n",
    "print(wxobs)"
   ]
  },
  {
   "cell_type": "markdown",
   "metadata": {},
   "source": [
    "## Define and execute a function that calculates equivalent potential temperature (i.e., theta-e) from temperature and relative humidity values as documented by Andrew Revering, Convective Development, Inc., http://gradsusr.org/pipermail/gradsusr/2010-January/010266.html"
   ]
  },
  {
   "cell_type": "code",
   "execution_count": 5,
   "metadata": {},
   "outputs": [],
   "source": [
    "def compthetae(temp,RH,pressure):\n",
    "    tempc = (temp - 32) / 1.8\n",
    "    print(\"Temp_C = \", tempc)\n",
    "    #Calculate theta-e. Units are in degrees Kelvin (K)\n",
    "    thetae = (273.15 + tempc)*((1000/pressure)**0.286)+(3 * (RH * (3.884266 * 10**\n",
    "         ((7.5 * tempc)/(237.7 + tempc)))/100))\n",
    "    return thetae"
   ]
  },
  {
   "cell_type": "markdown",
   "metadata": {},
   "source": [
    "## Invoke json_normalize function to generate a regional weather report in table format. Extract weather observation data and print weather reports for two selected locations within the rectangular boundary."
   ]
  },
  {
   "cell_type": "code",
   "execution_count": 6,
   "metadata": {
    "scrolled": false
   },
   "outputs": [
    {
     "name": "stdout",
     "output_type": "stream",
     "text": [
      "           clouds                            coord          dt       id  \\\n",
      "0   {u'today': 1}   {u'Lat': 26.19, u'Lon': -81.7}  1602173578  4156920   \n",
      "1   {u'today': 1}  {u'Lat': 26.14, u'Lon': -81.79}  1602173579  4165565   \n",
      "2   {u'today': 1}  {u'Lat': 26.34, u'Lon': -81.78}  1602173578  4148533   \n",
      "3  {u'today': 28}  {u'Lat': 26.42, u'Lon': -81.42}  1602173578  4159553   \n",
      "\n",
      "                                                main            name  rain  \\\n",
      "0  {u'temp': 88.9, u'temp_max': 91.99, u'humidity...     Golden Gate  None   \n",
      "1  {u'temp': 87.35, u'temp_max': 89.01, u'humidit...          Naples  None   \n",
      "2  {u'temp': 89.08, u'temp_max': 91.99, u'humidit...  Bonita Springs  None   \n",
      "3  {u'temp': 90.1, u'temp_max': 91.99, u'humidity...       Immokalee  None   \n",
      "\n",
      "   snow  visibility                                            weather  \\\n",
      "0  None       10000  [{u'main': u'Clear', u'id': 800, u'icon': u'01...   \n",
      "1  None       10000  [{u'main': u'Clear', u'id': 800, u'icon': u'01...   \n",
      "2  None       10000  [{u'main': u'Clear', u'id': 800, u'icon': u'01...   \n",
      "3  None       10000  [{u'main': u'Clouds', u'id': 802, u'icon': u'0...   \n",
      "\n",
      "                                     wind  \n",
      "0  {u'speed': 11.4083750895, u'deg': 130}  \n",
      "1  {u'speed': 11.4083750895, u'deg': 130}  \n",
      "2  {u'speed': 11.4083750895, u'deg': 130}  \n",
      "3   {u'speed': 8.0529706514, u'deg': 120}  \n",
      "\n",
      "Weather Report at Location #1\n",
      "Temp_C =  30.75\n",
      "Location 1:  Naples\n",
      "Wind speed:  11.4083750895\n",
      "Wind direction:  130\n",
      "Temperature:  87.35\n",
      "Humidity:  70\n",
      "Pressure:  1017\n",
      "Theta-e:  361.407793638\n",
      "\n",
      "Weather Report at Location #2\n",
      "Temp_C =  32.2777777778\n",
      "Location 2:  Immokalee\n",
      "Wind speed:  8.0529706514\n",
      "Wind direction:  120\n",
      "Temperature:  90.1\n",
      "Humidity:  59\n",
      "Pressure:  1017\n",
      "Theta-e:  358.154031107\n"
     ]
    }
   ],
   "source": [
    "#Invoke json_normalize function to generate a regional weather report in table format\n",
    "wx_data = json_normalize(data.to_dict('series'), 'list') \n",
    "print(wx_data)\n",
    "\n",
    "#Extract weather observation parameters and print weather reports for two selected stations \n",
    "print(\"\")\n",
    "print(\"Weather Report at Location #1\")\n",
    "loc1 = wx_data['name'][1]\n",
    "windspd_loc1 = wx_data['wind'][1]['speed']\n",
    "winddir_loc1 = wx_data['wind'][1]['deg']\n",
    "temp_loc1 = wx_data['main'][1]['temp']\n",
    "RH_loc1 = wx_data['main'][1]['humidity']\n",
    "pressure_loc1 = wx_data['main'][1]['pressure']\n",
    "thetae_loc1 = compthetae(temp_loc1,RH_loc1,pressure_loc1)\n",
    "print(\"Location 1: \", loc1)\n",
    "print(\"Wind speed: \", windspd_loc1)\n",
    "print(\"Wind direction: \", winddir_loc1)\n",
    "print(\"Temperature: \", temp_loc1)\n",
    "print(\"Humidity: \", RH_loc1)\n",
    "print(\"Pressure: \", pressure_loc1)\n",
    "print(\"Theta-e: \", thetae_loc1)\n",
    "\n",
    "print(\"\")\n",
    "print(\"Weather Report at Location #2\")\n",
    "loc2 = wx_data['name'][3]\n",
    "windspd_loc2 = wx_data['wind'][3]['speed']\n",
    "winddir_loc2 = wx_data['wind'][3]['deg']\n",
    "temp_loc2 = wx_data['main'][3]['temp']\n",
    "RH_loc2 = wx_data['main'][3]['humidity']\n",
    "pressure_loc2 = wx_data['main'][3]['pressure']\n",
    "thetae_loc2 = compthetae(temp_loc2,RH_loc2,pressure_loc2)\n",
    "print(\"Location 2: \", loc2)\n",
    "print(\"Wind speed: \", windspd_loc2)\n",
    "print(\"Wind direction: \", winddir_loc2)\n",
    "print(\"Temperature: \", temp_loc2)\n",
    "print(\"Humidity: \", RH_loc2)\n",
    "print(\"Pressure: \", pressure_loc2)\n",
    "print(\"Theta-e: \", thetae_loc2)\n",
    " "
   ]
  },
  {
   "cell_type": "markdown",
   "metadata": {},
   "source": [
    "## Execute a decision tree to 1) determine the presence of a frontal boundary and 2) determine the possibility of deep, moist convective storms (thunderstorms)."
   ]
  },
  {
   "cell_type": "code",
   "execution_count": 7,
   "metadata": {},
   "outputs": [
    {
     "name": "stdout",
     "output_type": "stream",
     "text": [
      "Theta-e difference between location #1 and location #2 =  3.253762531211123\n",
      "\n",
      "Wind convergence - frontal boundary not present\n",
      "Severe storm and MCS development possible\n"
     ]
    }
   ],
   "source": [
    "#Compute theta-e difference between two stations\n",
    "delta_thetae = np.absolute(thetae_loc2 - thetae_loc1)\n",
    "print(\"Theta-e difference between location #1 and location #2 = \", delta_thetae)\n",
    "\n",
    "#Test for veering winds between the two stations\n",
    "if winddir_loc2 < winddir_loc1:\n",
    "    winddirdiff = np.absolute(winddir_loc1 - winddir_loc2)\n",
    "    if winddirdiff >= 45: #Test for a significant wind shift between the two stations\n",
    "        wshift = True\n",
    "    else:\n",
    "        wshift = False\n",
    "    #Test for the presence of a theta-e gradient. If a gradient is present, test for\n",
    "    #values above two thresholds for severe thunderstorms (>330K) and ordinary thunderstorms (>310K), respectively\n",
    "    if delta_thetae > 0:\n",
    "        if thetae_loc2 > 330:\n",
    "            svrstorms = True\n",
    "            storms = True\n",
    "            cumulus = True\n",
    "        elif thetae_loc2 > 310:\n",
    "            svrstorms = False\n",
    "            storms = True\n",
    "            cumulus = True\n",
    "        else:\n",
    "            svrstorms = False\n",
    "            storms = False\n",
    "            cumulus = True\n",
    "    elif thetae_loc2 > 300:\n",
    "        svrstorms = False\n",
    "        storms = False\n",
    "        cumulus = True\n",
    "    else:\n",
    "        svrstorms = False\n",
    "        storms = False\n",
    "        cumulus = False\n",
    "        \n",
    "    div = False #Wind convergence is present\n",
    "    \n",
    "    print(\"\")\n",
    "    \n",
    "    if wshift == True:\n",
    "        print(\"Wind convergence - frontal boundary present\")\n",
    "    else:\n",
    "        print(\"Wind convergence - frontal boundary not present\")\n",
    "    if svrstorms == True:\n",
    "        print(\"Severe storm and MCS development possible\")\n",
    "    elif storms == True:\n",
    "        print(\"Scattered storm development possible\")\n",
    "    else:        \n",
    "        print(\"Cumulus cloud development possible\")\n",
    "\n",
    "#Test for backing winds between the two stations        \n",
    "elif winddir_loc2 > winddir_loc1:\n",
    "    winddirdiff = np.absolute(winddir_loc1 - winddir_loc2)\n",
    "    wshift = False\n",
    "    div = True\n",
    "    print(wshift,div)\n",
    "    #Test for the theta-e threshold for cumulus cloud development (310K)\n",
    "    if thetae_loc2 > 310:\n",
    "            svrstorms = False\n",
    "            storms = False\n",
    "            cumulus = True\n",
    "    print(\"Wind divergence - frontal boundary not present\")\n",
    "    if cumulus == True:\n",
    "        print(\"Cumulus cloud development possible\")    \n",
    "else:\n",
    "    winddirdiff = np.absolute(winddir_loc1 - winddir_loc2)\n",
    "    wshift = False\n",
    "    div = False\n",
    "    print(wshift,div)\n",
    "    if thetae_loc2 > 310:\n",
    "            svrstorms = False\n",
    "            storms = False\n",
    "            cumulus = True\n",
    "    print(\"Frontal boundary not present\")\n",
    "    if cumulus == True:\n",
    "        print(\"Cumulus cloud development possible\")    "
   ]
  },
  {
   "cell_type": "markdown",
   "metadata": {},
   "source": [
    "## Build dictionaries and a data frame containing weather report and derived parameter data; save data frame as a .csv file in the \"data\" directory."
   ]
  },
  {
   "cell_type": "code",
   "execution_count": 8,
   "metadata": {},
   "outputs": [
    {
     "name": "stdout",
     "output_type": "stream",
     "text": [
      "\n",
      "Directory 'data' created\n",
      "\n",
      "Weather Analysis Report Dataset\n",
      "  Cumulus_clouds Divergence Humidity Location 1 Location 2 Pressure  \\\n",
      "0           True      False                                           \n",
      "1                                 70     Naples                1017   \n",
      "2                                 59             Immokalee     1017   \n",
      "\n",
      "  Scattered_storms Severe_storms Temperature Theta-e: Wind direction  \\\n",
      "0             True          True                                       \n",
      "1                                      87.35  361.408            130   \n",
      "2                                       90.1  358.154            120   \n",
      "\n",
      "  Wind speed Wind_shift delta_thetae delta_wind_direction  \n",
      "0                 False      3.25376                   10  \n",
      "1    11.4084                                               \n",
      "2    8.05297                                               \n"
     ]
    }
   ],
   "source": [
    "#Build dictionaries containing weather observation data for two stations\n",
    "dict_wxdata_loc1 = {'Location 1' : loc1, 'Wind speed' : windspd_loc1, 'Wind direction' : winddir_loc1, 'Temperature' : temp_loc1,\n",
    "              'Humidity' : RH_loc1, 'Pressure' : pressure_loc1, 'Theta-e:' : thetae_loc1} \n",
    "\n",
    "dict_wxdata_loc2 = {'Location 2' : loc2, 'Wind speed' : windspd_loc2, 'Wind direction' : winddir_loc2, 'Temperature' : temp_loc2,\n",
    "              'Humidity' : RH_loc2, 'Pressure' : pressure_loc2, 'Theta-e:' : thetae_loc2} \n",
    "#Build dictionary containing derived parameters\n",
    "dict_wxanal = {'delta_thetae' : delta_thetae, 'delta_wind_direction' : winddirdiff, 'Wind_shift' : wshift, 'Divergence' : div,\n",
    "          'Severe_storms' : svrstorms, 'Scattered_storms' : storms, 'Cumulus_clouds' : cumulus} \n",
    "print(\"\")\n",
    "# Directory \n",
    "directory = 'data'\n",
    "os.mkdir(directory) \n",
    "print(\"Directory '% s' created\" % directory) \n",
    "print(\"\")\n",
    "#Build data frame from the dictionaries and save as .csv file in 'data' directory\n",
    "df_wxanal = pd.DataFrame([dict_wxanal,dict_wxdata_loc1,dict_wxdata_loc2])\n",
    "df_wxanal = df_wxanal.fillna('')\n",
    "df_wxanal.to_csv(r'data\\wxanal.csv')\n",
    "print(\"Weather Analysis Report Dataset\")\n",
    "print(df_wxanal)\n"
   ]
  },
  {
   "cell_type": "code",
   "execution_count": null,
   "metadata": {},
   "outputs": [],
   "source": []
  }
 ],
 "metadata": {
  "kernelspec": {
   "display_name": "Python 2",
   "language": "python",
   "name": "python2"
  },
  "language_info": {
   "codemirror_mode": {
    "name": "ipython",
    "version": 2
   },
   "file_extension": ".py",
   "mimetype": "text/x-python",
   "name": "python",
   "nbconvert_exporter": "python",
   "pygments_lexer": "ipython2",
   "version": "2.7.16"
  }
 },
 "nbformat": 4,
 "nbformat_minor": 2
}
